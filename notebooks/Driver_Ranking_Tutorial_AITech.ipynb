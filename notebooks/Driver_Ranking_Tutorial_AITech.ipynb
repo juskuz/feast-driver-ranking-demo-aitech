{
  "nbformat": 4,
  "nbformat_minor": 0,
  "metadata": {
    "colab": {
      "name": "Driver Ranking Tutorial - AITech",
      "provenance": [],
      "collapsed_sections": []
    },
    "kernelspec": {
      "name": "python3",
      "display_name": "Python 3"
    },
    "language_info": {
      "name": "python"
    }
  },
  "cells": [
    {
      "cell_type": "markdown",
      "metadata": {
        "id": "qa-41097T0vH"
      },
      "source": [
        "### Overview\n",
        "Making a prediction using a linear regression model is a common use case in ML. In this guide tutorial, we build the model that predicts best driver.\n",
        "\n",
        "The basic local mode gives you ability to quickly try Feast.\n",
        "\n",
        "This tutorial uses Feast with scikit learn to train a model locally.\n",
        " "
      ]
    },
    {
      "cell_type": "markdown",
      "metadata": {
        "id": "j1Qipu_GUYdA"
      },
      "source": [
        "## Step 1: Install feast, scikit-learn\n",
        "\n",
        "Install feast and scikit-learn\n"
      ]
    },
    {
      "cell_type": "code",
      "metadata": {
        "colab": {
          "base_uri": "https://localhost:8080/"
        },
        "id": "gxuVxKG3Ua6z",
        "outputId": "ca8e25c0-ad47-4fe4-ca98-2ee2b2ab62dc"
      },
      "source": [
        "!pip install feast scikit-learn"
      ],
      "execution_count": 1,
      "outputs": [
        {
          "output_type": "stream",
          "name": "stdout",
          "text": [
            "Requirement already satisfied: feast in /usr/local/lib/python3.7/dist-packages (0.21.2)\n",
            "Requirement already satisfied: scikit-learn in /usr/local/lib/python3.7/dist-packages (1.0.2)\n",
            "Requirement already satisfied: mmh3 in /usr/local/lib/python3.7/dist-packages (from feast) (3.0.0)\n",
            "Requirement already satisfied: jsonschema in /usr/local/lib/python3.7/dist-packages (from feast) (4.3.3)\n",
            "Requirement already satisfied: tenacity<9,>=7 in /usr/local/lib/python3.7/dist-packages (from feast) (8.0.1)\n",
            "Requirement already satisfied: fastapi<1,>=0.68.0 in /usr/local/lib/python3.7/dist-packages (from feast) (0.78.0)\n",
            "Requirement already satisfied: tabulate==0.8.* in /usr/local/lib/python3.7/dist-packages (from feast) (0.8.9)\n",
            "Requirement already satisfied: googleapis-common-protos<2,==1.52.* in /usr/local/lib/python3.7/dist-packages (from feast) (1.52.0)\n",
            "Requirement already satisfied: pyarrow<7,>=4 in /usr/local/lib/python3.7/dist-packages (from feast) (6.0.1)\n",
            "Requirement already satisfied: protobuf<3.20,>=3.10 in /usr/local/lib/python3.7/dist-packages (from feast) (3.17.3)\n",
            "Requirement already satisfied: pandavro==1.5.* in /usr/local/lib/python3.7/dist-packages (from feast) (1.5.2)\n",
            "Requirement already satisfied: Jinja2<4,>=2 in /usr/local/lib/python3.7/dist-packages (from feast) (2.11.3)\n",
            "Requirement already satisfied: tqdm==4.* in /usr/local/lib/python3.7/dist-packages (from feast) (4.64.0)\n",
            "Requirement already satisfied: click<8.0.2,>=7.0.0 in /usr/local/lib/python3.7/dist-packages (from feast) (7.1.2)\n",
            "Requirement already satisfied: uvicorn[standard]<1,>=0.14.0 in /usr/local/lib/python3.7/dist-packages (from feast) (0.17.6)\n",
            "Requirement already satisfied: PyYAML<7,>=5.4.* in /usr/local/lib/python3.7/dist-packages (from feast) (6.0)\n",
            "Requirement already satisfied: numpy<1.22,<2 in /usr/local/lib/python3.7/dist-packages (from feast) (1.21.6)\n",
            "Requirement already satisfied: fastavro<2,>=1.1.0 in /usr/local/lib/python3.7/dist-packages (from feast) (1.4.12)\n",
            "Requirement already satisfied: grpcio-reflection<2,>=1.34.0 in /usr/local/lib/python3.7/dist-packages (from feast) (1.46.3)\n",
            "Requirement already satisfied: colorama<1,>=0.3.9 in /usr/local/lib/python3.7/dist-packages (from feast) (0.4.4)\n",
            "Requirement already satisfied: pydantic<2,>=1 in /usr/local/lib/python3.7/dist-packages (from feast) (1.9.1)\n",
            "Requirement already satisfied: google-api-core<3,>=1.23.0 in /usr/local/lib/python3.7/dist-packages (from feast) (1.31.5)\n",
            "Requirement already satisfied: tensorflow-metadata<2.0.0,>=1.0.0 in /usr/local/lib/python3.7/dist-packages (from feast) (1.8.0)\n",
            "Requirement already satisfied: grpcio<2,>=1.34.0 in /usr/local/lib/python3.7/dist-packages (from feast) (1.46.3)\n",
            "Requirement already satisfied: toml==0.10.* in /usr/local/lib/python3.7/dist-packages (from feast) (0.10.2)\n",
            "Requirement already satisfied: dask<2022.02.0,>=2021.* in /usr/local/lib/python3.7/dist-packages (from feast) (2022.1.1)\n",
            "Requirement already satisfied: pandas<2,>=1 in /usr/local/lib/python3.7/dist-packages (from feast) (1.3.5)\n",
            "Requirement already satisfied: dill==0.3.* in /usr/local/lib/python3.7/dist-packages (from feast) (0.3.4)\n",
            "Requirement already satisfied: proto-plus<1.19.7 in /usr/local/lib/python3.7/dist-packages (from feast) (1.19.6)\n",
            "Requirement already satisfied: six>=1.9 in /usr/local/lib/python3.7/dist-packages (from pandavro==1.5.*->feast) (1.15.0)\n",
            "Requirement already satisfied: partd>=0.3.10 in /usr/local/lib/python3.7/dist-packages (from dask<2022.02.0,>=2021.*->feast) (1.2.0)\n",
            "Requirement already satisfied: cloudpickle>=1.1.1 in /usr/local/lib/python3.7/dist-packages (from dask<2022.02.0,>=2021.*->feast) (1.3.0)\n",
            "Requirement already satisfied: toolz>=0.8.2 in /usr/local/lib/python3.7/dist-packages (from dask<2022.02.0,>=2021.*->feast) (0.11.2)\n",
            "Requirement already satisfied: packaging>=20.0 in /usr/local/lib/python3.7/dist-packages (from dask<2022.02.0,>=2021.*->feast) (21.3)\n",
            "Requirement already satisfied: fsspec>=0.6.0 in /usr/local/lib/python3.7/dist-packages (from dask<2022.02.0,>=2021.*->feast) (2022.5.0)\n",
            "Requirement already satisfied: starlette==0.19.1 in /usr/local/lib/python3.7/dist-packages (from fastapi<1,>=0.68.0->feast) (0.19.1)\n",
            "Requirement already satisfied: typing-extensions>=3.10.0 in /usr/local/lib/python3.7/dist-packages (from starlette==0.19.1->fastapi<1,>=0.68.0->feast) (4.2.0)\n",
            "Requirement already satisfied: anyio<5,>=3.4.0 in /usr/local/lib/python3.7/dist-packages (from starlette==0.19.1->fastapi<1,>=0.68.0->feast) (3.6.1)\n",
            "Requirement already satisfied: sniffio>=1.1 in /usr/local/lib/python3.7/dist-packages (from anyio<5,>=3.4.0->starlette==0.19.1->fastapi<1,>=0.68.0->feast) (1.2.0)\n",
            "Requirement already satisfied: idna>=2.8 in /usr/local/lib/python3.7/dist-packages (from anyio<5,>=3.4.0->starlette==0.19.1->fastapi<1,>=0.68.0->feast) (2.10)\n",
            "Requirement already satisfied: requests<3.0.0dev,>=2.18.0 in /usr/local/lib/python3.7/dist-packages (from google-api-core<3,>=1.23.0->feast) (2.23.0)\n",
            "Requirement already satisfied: setuptools>=40.3.0 in /usr/local/lib/python3.7/dist-packages (from google-api-core<3,>=1.23.0->feast) (57.4.0)\n",
            "Requirement already satisfied: google-auth<2.0dev,>=1.25.0 in /usr/local/lib/python3.7/dist-packages (from google-api-core<3,>=1.23.0->feast) (1.35.0)\n",
            "Requirement already satisfied: pytz in /usr/local/lib/python3.7/dist-packages (from google-api-core<3,>=1.23.0->feast) (2022.1)\n",
            "Requirement already satisfied: pyasn1-modules>=0.2.1 in /usr/local/lib/python3.7/dist-packages (from google-auth<2.0dev,>=1.25.0->google-api-core<3,>=1.23.0->feast) (0.2.8)\n",
            "Requirement already satisfied: cachetools<5.0,>=2.0.0 in /usr/local/lib/python3.7/dist-packages (from google-auth<2.0dev,>=1.25.0->google-api-core<3,>=1.23.0->feast) (4.2.4)\n",
            "Requirement already satisfied: rsa<5,>=3.1.4 in /usr/local/lib/python3.7/dist-packages (from google-auth<2.0dev,>=1.25.0->google-api-core<3,>=1.23.0->feast) (4.8)\n",
            "Requirement already satisfied: MarkupSafe>=0.23 in /usr/local/lib/python3.7/dist-packages (from Jinja2<4,>=2->feast) (2.0.1)\n",
            "Requirement already satisfied: pyparsing!=3.0.5,>=2.0.2 in /usr/local/lib/python3.7/dist-packages (from packaging>=20.0->dask<2022.02.0,>=2021.*->feast) (3.0.9)\n",
            "Requirement already satisfied: python-dateutil>=2.7.3 in /usr/local/lib/python3.7/dist-packages (from pandas<2,>=1->feast) (2.8.2)\n",
            "Requirement already satisfied: locket in /usr/local/lib/python3.7/dist-packages (from partd>=0.3.10->dask<2022.02.0,>=2021.*->feast) (1.0.0)\n",
            "Requirement already satisfied: pyasn1<0.5.0,>=0.4.6 in /usr/local/lib/python3.7/dist-packages (from pyasn1-modules>=0.2.1->google-auth<2.0dev,>=1.25.0->google-api-core<3,>=1.23.0->feast) (0.4.8)\n",
            "Requirement already satisfied: certifi>=2017.4.17 in /usr/local/lib/python3.7/dist-packages (from requests<3.0.0dev,>=2.18.0->google-api-core<3,>=1.23.0->feast) (2021.10.8)\n",
            "Requirement already satisfied: chardet<4,>=3.0.2 in /usr/local/lib/python3.7/dist-packages (from requests<3.0.0dev,>=2.18.0->google-api-core<3,>=1.23.0->feast) (3.0.4)\n",
            "Requirement already satisfied: urllib3!=1.25.0,!=1.25.1,<1.26,>=1.21.1 in /usr/local/lib/python3.7/dist-packages (from requests<3.0.0dev,>=2.18.0->google-api-core<3,>=1.23.0->feast) (1.24.3)\n",
            "Requirement already satisfied: absl-py<2.0.0,>=0.9 in /usr/local/lib/python3.7/dist-packages (from tensorflow-metadata<2.0.0,>=1.0.0->feast) (1.0.0)\n",
            "Requirement already satisfied: h11>=0.8 in /usr/local/lib/python3.7/dist-packages (from uvicorn[standard]<1,>=0.14.0->feast) (0.13.0)\n",
            "Requirement already satisfied: asgiref>=3.4.0 in /usr/local/lib/python3.7/dist-packages (from uvicorn[standard]<1,>=0.14.0->feast) (3.5.2)\n",
            "Requirement already satisfied: websockets>=10.0 in /usr/local/lib/python3.7/dist-packages (from uvicorn[standard]<1,>=0.14.0->feast) (10.3)\n",
            "Requirement already satisfied: python-dotenv>=0.13 in /usr/local/lib/python3.7/dist-packages (from uvicorn[standard]<1,>=0.14.0->feast) (0.20.0)\n",
            "Requirement already satisfied: watchgod>=0.6 in /usr/local/lib/python3.7/dist-packages (from uvicorn[standard]<1,>=0.14.0->feast) (0.8.2)\n",
            "Requirement already satisfied: uvloop!=0.15.0,!=0.15.1,>=0.14.0 in /usr/local/lib/python3.7/dist-packages (from uvicorn[standard]<1,>=0.14.0->feast) (0.16.0)\n",
            "Requirement already satisfied: httptools>=0.4.0 in /usr/local/lib/python3.7/dist-packages (from uvicorn[standard]<1,>=0.14.0->feast) (0.4.0)\n",
            "Requirement already satisfied: threadpoolctl>=2.0.0 in /usr/local/lib/python3.7/dist-packages (from scikit-learn) (3.1.0)\n",
            "Requirement already satisfied: joblib>=0.11 in /usr/local/lib/python3.7/dist-packages (from scikit-learn) (1.1.0)\n",
            "Requirement already satisfied: scipy>=1.1.0 in /usr/local/lib/python3.7/dist-packages (from scikit-learn) (1.4.1)\n",
            "Requirement already satisfied: importlib-metadata in /usr/local/lib/python3.7/dist-packages (from jsonschema->feast) (4.11.3)\n",
            "Requirement already satisfied: importlib-resources>=1.4.0 in /usr/local/lib/python3.7/dist-packages (from jsonschema->feast) (5.7.1)\n",
            "Requirement already satisfied: attrs>=17.4.0 in /usr/local/lib/python3.7/dist-packages (from jsonschema->feast) (21.4.0)\n",
            "Requirement already satisfied: pyrsistent!=0.17.0,!=0.17.1,!=0.17.2,>=0.14.0 in /usr/local/lib/python3.7/dist-packages (from jsonschema->feast) (0.18.1)\n",
            "Requirement already satisfied: zipp>=3.1.0 in /usr/local/lib/python3.7/dist-packages (from importlib-resources>=1.4.0->jsonschema->feast) (3.8.0)\n"
          ]
        }
      ]
    },
    {
      "cell_type": "markdown",
      "metadata": {
        "id": "P8pFSVUp34W5"
      },
      "source": [
        "#### Check feast version"
      ]
    },
    {
      "cell_type": "code",
      "metadata": {
        "colab": {
          "base_uri": "https://localhost:8080/"
        },
        "id": "cOSAfdZiUnFa",
        "outputId": "e5768e09-24b4-4c01-d6f2-2e1cf529987c"
      },
      "source": [
        "!feast version "
      ],
      "execution_count": 2,
      "outputs": [
        {
          "output_type": "stream",
          "name": "stdout",
          "text": [
            "/usr/local/lib/python3.7/dist-packages/scipy/fft/__init__.py:97: DeprecationWarning: The module numpy.dual is deprecated.  Instead of using dual, use the functions directly from numpy or scipy.\n",
            "  from numpy.dual import register_func\n",
            "/usr/local/lib/python3.7/dist-packages/scipy/sparse/sputils.py:17: DeprecationWarning: `np.typeDict` is a deprecated alias for `np.sctypeDict`.\n",
            "  supported_dtypes = [np.typeDict[x] for x in supported_dtypes]\n",
            "Feast SDK Version: \"feast 0.21.2\"\n"
          ]
        }
      ]
    },
    {
      "cell_type": "markdown",
      "metadata": {
        "id": "pC4AzJ_b396l"
      },
      "source": [
        "## Step 2: Clone the Git repo\n",
        "\n",
        "Clone the Driver Ranking Git repo into your Colab Folder"
      ]
    },
    {
      "cell_type": "code",
      "metadata": {
        "colab": {
          "base_uri": "https://localhost:8080/"
        },
        "id": "4Qim_qbtUyGA",
        "outputId": "65292c41-57f9-428c-acf6-62ec72c4e23d"
      },
      "source": [
        "!git clone https://github.com/juskuz/feast-driver-ranking-demo-aitech.git"
      ],
      "execution_count": 3,
      "outputs": [
        {
          "output_type": "stream",
          "name": "stdout",
          "text": [
            "Cloning into 'feast-driver-ranking-demo-aitech'...\n",
            "remote: Enumerating objects: 11, done.\u001b[K\n",
            "remote: Counting objects: 100% (11/11), done.\u001b[K\n",
            "remote: Compressing objects: 100% (11/11), done.\u001b[K\n",
            "remote: Total 11 (delta 0), reused 11 (delta 0), pack-reused 0\u001b[K\n",
            "Unpacking objects: 100% (11/11), done.\n"
          ]
        }
      ]
    },
    {
      "cell_type": "markdown",
      "metadata": {
        "id": "ohWMCVhS5PPN"
      },
      "source": [
        "## Step 3: Apply and deploy feature definitions\n",
        "\n",
        "`feast apply` scans python files in the current directory for feature definitions and deploys infrastructure according to `feature_store.yaml`"
      ]
    },
    {
      "cell_type": "code",
      "metadata": {
        "colab": {
          "base_uri": "https://localhost:8080/"
        },
        "id": "izhTk0WWX3Tx",
        "outputId": "cbfb8ea0-43f9-4cac-8727-6666c52d2234"
      },
      "source": [
        "# %%shell\n",
        "# cd /content/feast-driver-ranking-demo-aitech/driver_ranking/\n",
        "!feast -c feast-driver-ranking-demo-aitech/driver_ranking/ apply"
      ],
      "execution_count": 4,
      "outputs": [
        {
          "output_type": "stream",
          "name": "stdout",
          "text": [
            "/usr/local/lib/python3.7/dist-packages/scipy/fft/__init__.py:97: DeprecationWarning: The module numpy.dual is deprecated.  Instead of using dual, use the functions directly from numpy or scipy.\n",
            "  from numpy.dual import register_func\n",
            "/usr/local/lib/python3.7/dist-packages/scipy/sparse/sputils.py:17: DeprecationWarning: `np.typeDict` is a deprecated alias for `np.sctypeDict`.\n",
            "  supported_dtypes = [np.typeDict[x] for x in supported_dtypes]\n",
            "/usr/local/lib/python3.7/dist-packages/feast/entity.py:116: DeprecationWarning: The `join_key` parameter is being deprecated in favor of the `join_keys` parameter. Please switch from using `join_key` to `join_keys`. Feast 0.23 and onwards will not support the `join_key` parameter.\n",
            "  DeprecationWarning,\n",
            "/usr/local/lib/python3.7/dist-packages/feast/data_source.py:234: DeprecationWarning: The argument 'event_timestamp_column' is being deprecated. Please use 'timestamp_field' instead. instead. Feast 0.23 and onwards will not support the argument 'event_timestamp_column' for datasources.\n",
            "  DeprecationWarning,\n",
            "/usr/local/lib/python3.7/dist-packages/feast/feature_view.py:259: DeprecationWarning: batch_source and stream_source have been deprecated in favor of `source`.The deprecated fields will be removed in Feast 0.23.\n",
            "  DeprecationWarning,\n",
            "/usr/local/lib/python3.7/dist-packages/feast/feature_view.py:201: DeprecationWarning: The `features` parameter is being deprecated in favor of the `schema` parameter. Please switch from using `features` to `schema`. This will also requiring switching feature definitions from using `Feature` to `Field`. Feast 0.23 and onwards will not support the `features` parameter.\n",
            "  DeprecationWarning,\n",
            "Created entity \u001b[1m\u001b[32mdriver_id\u001b[0m\n",
            "Created feature view \u001b[1m\u001b[32mdriver_hourly_stats\u001b[0m\n",
            "\n",
            "Created sqlite table \u001b[1m\u001b[32mdriver_ranking_driver_hourly_stats\u001b[0m\n",
            "\n"
          ]
        }
      ]
    },
    {
      "cell_type": "markdown",
      "metadata": {
        "id": "lJlrf2Iu53BR"
      },
      "source": [
        "### Inspect the files created under your local folder"
      ]
    },
    {
      "cell_type": "code",
      "metadata": {
        "colab": {
          "base_uri": "https://localhost:8080/"
        },
        "id": "IrJ6gqtdmKk7",
        "outputId": "a0b00549-6bb8-4f14-83e0-d8ada9aad239"
      },
      "source": [
        "%%shell\n",
        "cd /content/feast-driver-ranking-demo-aitech/driver_ranking/data/\n",
        "ls -l "
      ],
      "execution_count": 5,
      "outputs": [
        {
          "output_type": "stream",
          "name": "stdout",
          "text": [
            "total 20\n",
            "-rw-r--r-- 1 root root 16384 May 22 00:09 online_store.db\n",
            "-rw-r--r-- 1 root root   950 May 22 00:09 registry.db\n"
          ]
        },
        {
          "output_type": "execute_result",
          "data": {
            "text/plain": [
              ""
            ]
          },
          "metadata": {},
          "execution_count": 5
        }
      ]
    },
    {
      "cell_type": "markdown",
      "metadata": {
        "id": "bHBfTEau6Qt9"
      },
      "source": [
        "## Step 4: Train your model"
      ]
    },
    {
      "cell_type": "code",
      "metadata": {
        "colab": {
          "base_uri": "https://localhost:8080/"
        },
        "id": "F-Pc4Jo4kzBL",
        "outputId": "28ca2f44-dc01-40cc-da33-8fb920d0e096"
      },
      "source": [
        "import feast\n",
        "from joblib import dump\n",
        "import pandas as pd\n",
        "from sklearn.linear_model import LinearRegression\n",
        "\n",
        "# Load driver order data\n",
        "orders = pd.read_csv(\"/content/feast-driver-ranking-demo-aitech/driver_orders.csv\", sep=\"\\t\")\n",
        "orders[\"event_timestamp\"] = pd.to_datetime(orders[\"event_timestamp\"])\n",
        "\n",
        "# Connect to your feature store provider\n",
        "fs = feast.FeatureStore(repo_path=\"/content/feast-driver-ranking-demo-aitech/driver_ranking\")\n",
        "        \n",
        "# Retrieve training data from BigQuery\n",
        "training_df = fs.get_historical_features(\n",
        "    entity_df=orders,\n",
        "    features=[\n",
        "        \"driver_hourly_stats:conv_rate\",\n",
        "        \"driver_hourly_stats:acc_rate\",\n",
        "        \"driver_hourly_stats:avg_daily_trips\"\n",
        "    ],\n",
        ").to_df()\n",
        "\n",
        "print(\"----- Feature schema -----\\n\")\n",
        "print(training_df.info())\n",
        "\n",
        "print()\n",
        "print(\"----- Example features -----\\n\")\n",
        "print(training_df.head())\n",
        "\n",
        "# Train model\n",
        "target = \"trip_completed\"\n",
        "\n",
        "reg = LinearRegression()\n",
        "train_X = training_df[training_df.columns.drop(target).drop(\"event_timestamp\")]\n",
        "train_Y = training_df.loc[:, target]\n",
        "reg.fit(train_X[sorted(train_X)], train_Y)\n",
        "\n",
        "# Save model\n",
        "dump(reg, \"driver_model.bin\")"
      ],
      "execution_count": 6,
      "outputs": [
        {
          "output_type": "stream",
          "name": "stderr",
          "text": [
            "/usr/local/lib/python3.7/dist-packages/scipy/fft/__init__.py:97: DeprecationWarning: The module numpy.dual is deprecated.  Instead of using dual, use the functions directly from numpy or scipy.\n",
            "  from numpy.dual import register_func\n",
            "/usr/local/lib/python3.7/dist-packages/scipy/sparse/sputils.py:17: DeprecationWarning: `np.typeDict` is a deprecated alias for `np.sctypeDict`.\n",
            "  supported_dtypes = [np.typeDict[x] for x in supported_dtypes]\n",
            "/usr/lib/python3.7/importlib/_bootstrap.py:219: RuntimeWarning: numpy.ufunc size changed, may indicate binary incompatibility. Expected 192 from C header, got 216 from PyObject\n",
            "  return f(*args, **kwds)\n",
            "/usr/lib/python3.7/importlib/_bootstrap.py:219: RuntimeWarning: numpy.ufunc size changed, may indicate binary incompatibility. Expected 192 from C header, got 216 from PyObject\n",
            "  return f(*args, **kwds)\n",
            "/usr/local/lib/python3.7/dist-packages/scipy/special/orthogonal.py:81: DeprecationWarning: `np.int` is a deprecated alias for the builtin `int`. To silence this warning, use `int` by itself. Doing this will not modify any behavior and is safe. When replacing `np.int`, you may wish to use e.g. `np.int64` or `np.int32` to specify the precision. If you wish to review your current use, check the release note link for additional information.\n",
            "Deprecated in NumPy 1.20; for more details and guidance: https://numpy.org/devdocs/release/1.20.0-notes.html#deprecations\n",
            "  from numpy import (exp, inf, pi, sqrt, floor, sin, cos, around, int,\n"
          ]
        },
        {
          "output_type": "stream",
          "name": "stdout",
          "text": [
            "----- Feature schema -----\n",
            "\n",
            "<class 'pandas.core.frame.DataFrame'>\n",
            "Int64Index: 10 entries, 360 to 3615\n",
            "Data columns (total 6 columns):\n",
            " #   Column           Non-Null Count  Dtype              \n",
            "---  ------           --------------  -----              \n",
            " 0   event_timestamp  10 non-null     datetime64[ns, UTC]\n",
            " 1   driver_id        10 non-null     int64              \n",
            " 2   trip_completed   10 non-null     int64              \n",
            " 3   conv_rate        10 non-null     float32            \n",
            " 4   acc_rate         10 non-null     float32            \n",
            " 5   avg_daily_trips  10 non-null     int32              \n",
            "dtypes: datetime64[ns, UTC](1), float32(2), int32(1), int64(2)\n",
            "memory usage: 440.0 bytes\n",
            "None\n",
            "\n",
            "----- Example features -----\n",
            "\n",
            "               event_timestamp  driver_id  trip_completed  conv_rate  \\\n",
            "360  2021-04-16 20:29:28+00:00       1001               1   0.701558   \n",
            "721  2021-04-17 04:29:28+00:00       1002               0   0.775499   \n",
            "1082 2021-04-17 12:29:28+00:00       1003               0   0.186658   \n",
            "1445 2021-04-17 20:29:28+00:00       1001               1   0.701558   \n",
            "1806 2021-04-18 04:29:28+00:00       1002               0   0.775499   \n",
            "\n",
            "      acc_rate  avg_daily_trips  \n",
            "360   0.195824              566  \n",
            "721   0.947109              890  \n",
            "1082  0.245490              971  \n",
            "1445  0.195824              566  \n",
            "1806  0.947109              890  \n"
          ]
        },
        {
          "output_type": "execute_result",
          "data": {
            "text/plain": [
              "['driver_model.bin']"
            ]
          },
          "metadata": {},
          "execution_count": 6
        }
      ]
    },
    {
      "cell_type": "markdown",
      "metadata": {
        "id": "HpHacyo47Are"
      },
      "source": [
        "## Step 5: Materialize your online store\n",
        "Apply and materialize data."
      ]
    },
    {
      "cell_type": "code",
      "metadata": {
        "colab": {
          "base_uri": "https://localhost:8080/"
        },
        "id": "67627WRSajIk",
        "outputId": "f59298df-c2e5-407f-bbd4-e8eca035c820"
      },
      "source": [
        "!cd /content/feast-driver-ranking-demo-aitech/driver_ranking/ && feast materialize-incremental 2022-01-01T00:00:00"
      ],
      "execution_count": 7,
      "outputs": [
        {
          "output_type": "stream",
          "name": "stdout",
          "text": [
            "/usr/local/lib/python3.7/dist-packages/scipy/fft/__init__.py:97: DeprecationWarning: The module numpy.dual is deprecated.  Instead of using dual, use the functions directly from numpy or scipy.\n",
            "  from numpy.dual import register_func\n",
            "/usr/local/lib/python3.7/dist-packages/scipy/sparse/sputils.py:17: DeprecationWarning: `np.typeDict` is a deprecated alias for `np.sctypeDict`.\n",
            "  supported_dtypes = [np.typeDict[x] for x in supported_dtypes]\n",
            "Materializing \u001b[1m\u001b[32m1\u001b[0m feature views to \u001b[1m\u001b[32m2022-01-01 00:00:00+00:00\u001b[0m into the \u001b[1m\u001b[32msqlite\u001b[0m online store.\n",
            "\n",
            "\u001b[1m\u001b[32mdriver_hourly_stats\u001b[0m from \u001b[1m\u001b[32m2021-05-23 00:10:48+00:00\u001b[0m to \u001b[1m\u001b[32m2022-01-01 00:00:00+00:00\u001b[0m:\n",
            "100%|████████████████████████████████████████████████████████████████| 5/5 [00:00<00:00, 335.99it/s]\n"
          ]
        }
      ]
    },
    {
      "cell_type": "markdown",
      "metadata": {
        "id": "-869cxQO2ana"
      },
      "source": [
        "### Step 6:  Make Prediction"
      ]
    },
    {
      "cell_type": "code",
      "metadata": {
        "id": "VP85XeGFzNYl"
      },
      "source": [
        "import pandas as pd\n",
        "import feast\n",
        "from joblib import load\n",
        "\n",
        "\n",
        "class DriverRankingModel:\n",
        "    def __init__(self):\n",
        "        # Load model\n",
        "        self.model = load(\"/content/driver_model.bin\")\n",
        "\n",
        "        # Set up feature store\n",
        "        self.fs = feast.FeatureStore(repo_path=\"/content/feast-driver-ranking-demo-aitech/driver_ranking/\")\n",
        "\n",
        "    def predict(self, driver_ids):\n",
        "        # Read features from Feast\n",
        "        driver_features = self.fs.get_online_features(\n",
        "            entity_rows=[{\"driver_id\": driver_id} for driver_id in driver_ids],\n",
        "            features=[\n",
        "                \"driver_hourly_stats:conv_rate\",\n",
        "                \"driver_hourly_stats:acc_rate\",\n",
        "                \"driver_hourly_stats:avg_daily_trips\",\n",
        "            ],\n",
        "        )\n",
        "        df = pd.DataFrame.from_dict(driver_features.to_dict())\n",
        "\n",
        "        # Make prediction\n",
        "        df[\"prediction\"] = self.model.predict(df[sorted(df)])\n",
        "\n",
        "        # Choose best driver\n",
        "        best_driver_id = df[\"driver_id\"].iloc[df[\"prediction\"].argmax()]\n",
        "\n",
        "        # return best driver\n",
        "        return best_driver_id"
      ],
      "execution_count": 8,
      "outputs": []
    },
    {
      "cell_type": "code",
      "metadata": {
        "id": "f9AJ842Rk3E9"
      },
      "source": [
        "def make_drivers_prediction():\n",
        "    drivers = [1001, 1002, 1003, 1004]\n",
        "    model = DriverRankingModel()\n",
        "    best_driver = model.predict(drivers)\n",
        "    print(f\"Prediction for best driver id: {best_driver}\")"
      ],
      "execution_count": 9,
      "outputs": []
    },
    {
      "cell_type": "code",
      "metadata": {
        "colab": {
          "base_uri": "https://localhost:8080/"
        },
        "id": "lq2TNXfjbb8e",
        "outputId": "8b958f54-da3c-4628-d25e-1dd0355a0314"
      },
      "source": [
        "make_drivers_prediction()"
      ],
      "execution_count": 10,
      "outputs": [
        {
          "output_type": "stream",
          "name": "stdout",
          "text": [
            "Prediction for best driver id: 1003\n"
          ]
        }
      ]
    }
  ]
}